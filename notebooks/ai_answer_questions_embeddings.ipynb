{
 "cells": [
  {
   "cell_type": "code",
   "execution_count": 1,
   "metadata": {},
   "outputs": [],
   "source": [
    "import tiktoken\n",
    "\n",
    "\n",
    "# Load the cl100k_base tokenizer which is designed to work with the ada-002 model.\n",
    "tokenizer = tiktoken.get_encoding(\"cl100k_base\")"
   ]
  },
  {
   "cell_type": "code",
   "execution_count": 2,
   "metadata": {},
   "outputs": [
    {
     "data": {
      "text/html": [
       "<div>\n",
       "<style scoped>\n",
       "    .dataframe tbody tr th:only-of-type {\n",
       "        vertical-align: middle;\n",
       "    }\n",
       "\n",
       "    .dataframe tbody tr th {\n",
       "        vertical-align: top;\n",
       "    }\n",
       "\n",
       "    .dataframe thead th {\n",
       "        text-align: right;\n",
       "    }\n",
       "</style>\n",
       "<table border=\"1\" class=\"dataframe\">\n",
       "  <thead>\n",
       "    <tr style=\"text-align: right;\">\n",
       "      <th></th>\n",
       "      <th>article_name</th>\n",
       "      <th>text</th>\n",
       "    </tr>\n",
       "  </thead>\n",
       "  <tbody>\n",
       "    <tr>\n",
       "      <th>0</th>\n",
       "      <td>Article 1</td>\n",
       "      <td>This is a test. Kiwi kiwi, soup, stake, pork.</td>\n",
       "    </tr>\n",
       "    <tr>\n",
       "      <th>1</th>\n",
       "      <td>Article 2</td>\n",
       "      <td>This is another kiwi. Kiwi, soup, stake, pork.</td>\n",
       "    </tr>\n",
       "  </tbody>\n",
       "</table>\n",
       "</div>"
      ],
      "text/plain": [
       "  article_name                                            text\n",
       "0    Article 1   This is a test. Kiwi kiwi, soup, stake, pork.\n",
       "1    Article 2  This is another kiwi. Kiwi, soup, stake, pork."
      ]
     },
     "execution_count": 2,
     "metadata": {},
     "output_type": "execute_result"
    }
   ],
   "source": [
    "import pandas as pd\n",
    "\n",
    "\n",
    "texts = [\n",
    "    [\"Article 1\", \"This is a test. Kiwi kiwi, soup, stake, pork.\"], \n",
    "    [\"Article 2\", \"This is another kiwi. Kiwi, soup, stake, pork.\"]\n",
    "]\n",
    "\n",
    "df = pd.DataFrame(texts, columns=['article_name', 'text'])\n",
    "\n",
    "df.head()"
   ]
  },
  {
   "cell_type": "code",
   "execution_count": 3,
   "metadata": {},
   "outputs": [
    {
     "data": {
      "text/html": [
       "<div>\n",
       "<style scoped>\n",
       "    .dataframe tbody tr th:only-of-type {\n",
       "        vertical-align: middle;\n",
       "    }\n",
       "\n",
       "    .dataframe tbody tr th {\n",
       "        vertical-align: top;\n",
       "    }\n",
       "\n",
       "    .dataframe thead th {\n",
       "        text-align: right;\n",
       "    }\n",
       "</style>\n",
       "<table border=\"1\" class=\"dataframe\">\n",
       "  <thead>\n",
       "    <tr style=\"text-align: right;\">\n",
       "      <th></th>\n",
       "      <th>article_name</th>\n",
       "      <th>text</th>\n",
       "      <th>token_ids</th>\n",
       "      <th>n_tokens</th>\n",
       "    </tr>\n",
       "  </thead>\n",
       "  <tbody>\n",
       "    <tr>\n",
       "      <th>0</th>\n",
       "      <td>Article 1</td>\n",
       "      <td>This is a test. Kiwi kiwi, soup, stake, pork.</td>\n",
       "      <td>[2028, 374, 264, 1296, 13, 30558, 17043, 20548...</td>\n",
       "      <td>16</td>\n",
       "    </tr>\n",
       "    <tr>\n",
       "      <th>1</th>\n",
       "      <td>Article 2</td>\n",
       "      <td>This is another kiwi. Kiwi, soup, stake, pork.</td>\n",
       "      <td>[2028, 374, 2500, 20548, 17043, 13, 30558, 170...</td>\n",
       "      <td>15</td>\n",
       "    </tr>\n",
       "  </tbody>\n",
       "</table>\n",
       "</div>"
      ],
      "text/plain": [
       "  article_name                                            text  \\\n",
       "0    Article 1   This is a test. Kiwi kiwi, soup, stake, pork.   \n",
       "1    Article 2  This is another kiwi. Kiwi, soup, stake, pork.   \n",
       "\n",
       "                                           token_ids  n_tokens  \n",
       "0  [2028, 374, 264, 1296, 13, 30558, 17043, 20548...        16  \n",
       "1  [2028, 374, 2500, 20548, 17043, 13, 30558, 170...        15  "
      ]
     },
     "execution_count": 3,
     "metadata": {},
     "output_type": "execute_result"
    }
   ],
   "source": [
    "# Tokenize the text and save the number of tokens to a new column.\n",
    "df[\"token_ids\"] = df.text.apply(lambda x: tokenizer.encode(x))\n",
    "df[\"n_tokens\"] = df.text.apply(lambda x: len(tokenizer.encode(x)))\n",
    "\n",
    "df.head()"
   ]
  },
  {
   "cell_type": "code",
   "execution_count": 4,
   "metadata": {},
   "outputs": [
    {
     "data": {
      "image/png": "[encoded data removed]",
      "text/plain": [
       "<Figure size 640x480 with 1 Axes>"
      ]
     },
     "metadata": {},
     "output_type": "display_data"
    }
   ],
   "source": [
    "import matplotlib.pyplot as plt\n",
    "\n",
    "\n",
    "# Tokenize the text and save the number of tokens to a new column\n",
    "df['n_tokens'] = df.text.apply(lambda x: len(tokenizer.encode(x)))\n",
    "\n",
    "# Visualize the distribution of the number of tokens per row using a histogram\n",
    "df.n_tokens.hist()\n",
    "plt.xlabel('Number of Tokens')\n",
    "plt.ylabel('Frequency')\n",
    "plt.title('Distribution of Number of Tokens per Text')\n",
    "plt.show()"
   ]
  },
  {
   "cell_type": "code",
   "execution_count": 5,
   "metadata": {},
   "outputs": [],
   "source": [
    "from typing import List\n",
    "\n",
    "\n",
    "def split_into_many(text: str, max_tokens: int) -> List[str]:\n",
    "    \"\"\"\n",
    "    Split the text into chunks of a maximum number of tokens.\n",
    "    \n",
    "    Parameters:\n",
    "    text (str): The text to be split into chunks.\n",
    "    max_tokens (int): The maximum number of tokens allowed in each chunk.\n",
    "    \n",
    "    Returns:\n",
    "    List[str]: A list of text chunks.\n",
    "    \"\"\"\n",
    "    \n",
    "    # Split the text into sentences.\n",
    "    sentences = text.split(\". \")\n",
    "    \n",
    "    # Get the number of tokens for each sentence.\n",
    "    n_tokens = [len(tokenizer.encode(\" \" + sentence)) for sentence in sentences]\n",
    "    \n",
    "    chunks = []\n",
    "    tokens_so_far = 0\n",
    "    chunk = []\n",
    "    \n",
    "    # Loop through the sentences and tokens joined together in a tuple.\n",
    "    for sentence, token in zip(sentences, n_tokens):\n",
    "        \n",
    "        # Check if adding a new sentence exceeds the maximum token limit.\n",
    "        if tokens_so_far + token > max_tokens:\n",
    "            chunks.append(\". \".join(chunk) + \".\")\n",
    "            chunk = []\n",
    "            tokens_so_far = 0\n",
    "        \n",
    "        # Add sentences that don't exceed the token limit to the current chunk.\n",
    "        chunk.append(sentence)\n",
    "        tokens_so_far += token + 1\n",
    "    \n",
    "    # Return the list of text chunks.\n",
    "    return chunks\n",
    "\n",
    "\n",
    "def shorted_texts_of_df(df, max_tokens: int) -> List[str]:\n",
    "    \"\"\"\n",
    "    Process a DataFrame to shorten the texts based on a maximum token limit.\n",
    "    \n",
    "    Parameters:\n",
    "    df (DataFrame): The DataFrame containing the texts to be shortened.\n",
    "    \n",
    "    Returns:\n",
    "    List[str]: A list of shortened texts.\n",
    "    \"\"\"\n",
    "    \n",
    "    shortened_texts = []\n",
    "    \n",
    "    # Loop through the DataFrame.\n",
    "    for _, row in df.iterrows():\n",
    "        \n",
    "        text = row['text']\n",
    "        \n",
    "        # Skip rows where the text is None.\n",
    "        if text is None:\n",
    "            continue\n",
    "        \n",
    "        # Split the text into chunks if it exceeds the maximum token count.\n",
    "        if len(tokenizer.encode(text)) > max_tokens:\n",
    "            shortened_texts.extend(split_into_many(text, max_tokens))\n",
    "        else:\n",
    "            shortened_texts.append(text)\n",
    "    \n",
    "    return shortened_texts\n"
   ]
  },
  {
   "cell_type": "code",
   "execution_count": 6,
   "metadata": {},
   "outputs": [
    {
     "name": "stdout",
     "output_type": "stream",
     "text": [
      "['This is a test.', 'This is another kiwi. Kiwi, soup, stake, pork.']\n"
     ]
    },
    {
     "data": {
      "image/png": "[encoded data removed]",
      "text/plain": [
       "<Figure size 640x480 with 1 Axes>"
      ]
     },
     "metadata": {},
     "output_type": "display_data"
    }
   ],
   "source": [
    "shortened_texts = shorted_texts_of_df(df, 15)\n",
    "print(shortened_texts)\n",
    "\n",
    "df = pd.DataFrame(shortened_texts, columns=['text'])\n",
    "df['n_tokens'] = df.text.apply(lambda x: len(tokenizer.encode(x)))\n",
    "\n",
    "df.n_tokens.hist()\n",
    "plt.xlabel('Number of Tokens')\n",
    "plt.ylabel('Frequency')\n",
    "plt.title('Distribution of Number of Tokens per Text')\n",
    "plt.show()"
   ]
  },
  {
   "cell_type": "code",
   "execution_count": 7,
   "metadata": {},
   "outputs": [
    {
     "data": {
      "text/html": [
       "<div>\n",
       "<style scoped>\n",
       "    .dataframe tbody tr th:only-of-type {\n",
       "        vertical-align: middle;\n",
       "    }\n",
       "\n",
       "    .dataframe tbody tr th {\n",
       "        vertical-align: top;\n",
       "    }\n",
       "\n",
       "    .dataframe thead th {\n",
       "        text-align: right;\n",
       "    }\n",
       "</style>\n",
       "<table border=\"1\" class=\"dataframe\">\n",
       "  <thead>\n",
       "    <tr style=\"text-align: right;\">\n",
       "      <th></th>\n",
       "      <th>text</th>\n",
       "      <th>n_tokens</th>\n",
       "    </tr>\n",
       "  </thead>\n",
       "  <tbody>\n",
       "    <tr>\n",
       "      <th>0</th>\n",
       "      <td>[2028, 374, 264, 1296, 13]</td>\n",
       "      <td>5</td>\n",
       "    </tr>\n",
       "    <tr>\n",
       "      <th>1</th>\n",
       "      <td>[2028, 374, 2500, 20548, 17043, 13, 30558, 170...</td>\n",
       "      <td>15</td>\n",
       "    </tr>\n",
       "  </tbody>\n",
       "</table>\n",
       "</div>"
      ],
      "text/plain": [
       "                                                text  n_tokens\n",
       "0                         [2028, 374, 264, 1296, 13]         5\n",
       "1  [2028, 374, 2500, 20548, 17043, 13, 30558, 170...        15"
      ]
     },
     "execution_count": 7,
     "metadata": {},
     "output_type": "execute_result"
    }
   ],
   "source": [
    "df[\"text\"] = df.text.apply(lambda x: tokenizer.encode(x))\n",
    "df.head()"
   ]
  },
  {
   "cell_type": "code",
   "execution_count": 9,
   "metadata": {},
   "outputs": [
    {
     "name": "stdout",
     "output_type": "stream",
     "text": [
      "[17873, 6108, 3754, 11, 14079, 2835, 22609, 11, 7397, 323, 6177, 14370, 13]\n"
     ]
    }
   ],
   "source": [
    "sample_text = \"Fact-based news, exclusive video footage, photos and updated maps.\"\n",
    "sample_tokens = tokenizer.encode(sample_text)\n",
    "print(sample_tokens)"
   ]
  }
 ],
 "metadata": {
  "kernelspec": {
   "display_name": ".venv",
   "language": "python",
   "name": "python3"
  },
  "language_info": {
   "codemirror_mode": {
    "name": "ipython",
    "version": 3
   },
   "file_extension": ".py",
   "mimetype": "text/x-python",
   "name": "python",
   "nbconvert_exporter": "python",
   "pygments_lexer": "ipython3",
   "version": "3.12.0"
  }
 },
 "nbformat": 4,
 "nbformat_minor": 2
}
